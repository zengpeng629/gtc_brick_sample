{
 "cells": [
  {
   "cell_type": "code",
   "execution_count": 3,
   "metadata": {},
   "outputs": [],
   "source": [
    "import rdflib\n",
    "\n",
    "# Load the TTL file\n",
    "graph = rdflib.Graph()\n",
    "graph.parse(\"./gtc_brick.ttl\", format=\"turtle\")\n",
    "\n",
    "# Define the SPARQL query\n",
    "query = \"\"\"\n",
    "    PREFIX brick: <https://brickschema.org/schema/Brick#>\n",
    "    \n",
    "    SELECT ?chiller ?relationship ?entity\n",
    "    WHERE {\n",
    "    ?chiller a brick:Chiller .\n",
    "    ?chiller ?relationship ?entity .\n",
    "    }\n",
    "\"\"\"\n",
    "\n",
    "# Execute the SPARQL query\n",
    "results = graph.query(query)\n",
    "\n",
    "# Display the results\n",
    "for result in results:\n",
    "    print(f\"AHU: {result.ahu}, Relationship: {result.relationship}, Related Entity: {result.relatedEntity}\")\n"
   ]
  },
  {
   "cell_type": "code",
   "execution_count": 5,
   "metadata": {},
   "outputs": [
    {
     "data": {
      "text/plain": [
       "{'AHU': 1,\n",
       " 'VAV': 12,\n",
       " 'Chiller': 0,\n",
       " 'Boiler': 0,\n",
       " 'Fan': 2,\n",
       " 'Filter': 2,\n",
       " 'Coil': 0,\n",
       " 'Thermostat': 0,\n",
       " 'Sensor': 0,\n",
       " 'Actuator': 0,\n",
       " 'Valve': 1,\n",
       " 'Pump': 3}"
      ]
     },
     "execution_count": 5,
     "metadata": {},
     "output_type": "execute_result"
    }
   ],
   "source": [
    "# Retry querying the RDF graph to extract instances of common HVAC-related classes\n",
    "\n",
    "# Load the TTL file into an RDF graph\n",
    "graph = rdflib.Graph()\n",
    "graph.parse(\"./gtc_brick.ttl\", format=\"turtle\")\n",
    "\n",
    "# List of common HVAC-related classes in Brick schema\n",
    "hvac_classes = [\n",
    "    \"AHU\", \"VAV\", \"Chiller\", \"Boiler\", \"Fan\", \"Filter\", \"Coil\", \n",
    "    \"Thermostat\", \"Sensor\", \"Actuator\", \"Valve\", \"Pump\"\n",
    "]\n",
    "\n",
    "# Namespace for Brick\n",
    "brick_ns = rdflib.Namespace(\"https://brickschema.org/schema/Brick#\")\n",
    "\n",
    "# Dictionary to store instances of each class\n",
    "hvac_instances = {}\n",
    "\n",
    "# Querying for instances of each class\n",
    "for hvac_class in hvac_classes:\n",
    "    query = f\"\"\"\n",
    "        SELECT ?instance\n",
    "        WHERE {{\n",
    "            ?instance a brick:{hvac_class} .\n",
    "        }}\n",
    "    \"\"\"\n",
    "    # Execute the query\n",
    "    results = graph.query(query)\n",
    "    \n",
    "    # Store the instances in the dictionary\n",
    "    hvac_instances[hvac_class] = [str(result[0]) for result in results]\n",
    "\n",
    "# Display the number of instances for each HVAC class\n",
    "{class_name: len(instances) for class_name, instances in hvac_instances.items()}\n"
   ]
  },
  {
   "cell_type": "code",
   "execution_count": 1,
   "metadata": {},
   "outputs": [
    {
     "data": {
      "text/plain": [
       "<Graph identifier=N88e6c5b7c4ae4333b54b5d4310af6416 (<class 'rdflib.graph.Graph'>)>"
      ]
     },
     "execution_count": 1,
     "metadata": {},
     "output_type": "execute_result"
    }
   ],
   "source": [
    "import rdflib\n",
    "\n",
    "# Load the TTL file into an RDF graph\n",
    "graph = rdflib.Graph()\n",
    "graph.parse(\"./gtc_brick.ttl\", format=\"turtle\")\n",
    "\n",
    "# Identified HVAC components\n",
    "# hvac_classes = ['AHU', 'VAV', 'Fan', 'Filter', 'Valve', 'Pump']\n",
    "hvac_classes = ['AHU', 'VAV']\n",
    "\n",
    "# Namespace for Brick\n",
    "brick_ns = rdflib.Namespace(\"https://brickschema.org/schema/Brick#\")\n",
    "\n",
    "# Initialize a graph for the subset schema\n",
    "subset_graph = rdflib.Graph()\n",
    "\n",
    "# Loop through each HVAC component type and extract relevant triples\n",
    "for hvac_class in hvac_classes:\n",
    "    construct_query = f\"\"\"\n",
    "        CONSTRUCT {{\n",
    "            ?instance ?p ?o .\n",
    "            ?o ?p2 ?o2 .\n",
    "        }}\n",
    "        WHERE {{\n",
    "            ?instance a brick:{hvac_class} .\n",
    "            ?instance ?p ?o .\n",
    "            OPTIONAL {{ ?o ?p2 ?o2 }}\n",
    "        }}\n",
    "    \"\"\"\n",
    "    # Execute the CONSTRUCT query and merge the result with the subset graph\n",
    "    subset_graph += graph.query(construct_query)\n",
    "\n",
    "# Save the extracted subset schema to a new TTL file\n",
    "subset_graph.serialize(destination=\"./hvac_subset_ahu_vav.ttl\", format=\"turtle\")\n"
   ]
  }
 ],
 "metadata": {
  "kernelspec": {
   "display_name": "openai",
   "language": "python",
   "name": "python3"
  },
  "language_info": {
   "codemirror_mode": {
    "name": "ipython",
    "version": 3
   },
   "file_extension": ".py",
   "mimetype": "text/x-python",
   "name": "python",
   "nbconvert_exporter": "python",
   "pygments_lexer": "ipython3",
   "version": "3.10.12"
  },
  "orig_nbformat": 4
 },
 "nbformat": 4,
 "nbformat_minor": 2
}
